{
  "nbformat": 4,
  "nbformat_minor": 0,
  "metadata": {
    "colab": {
      "provenance": [],
      "authorship_tag": "ABX9TyMBIZHeSfe1YwIxRQ8CxP9V",
      "include_colab_link": true
    },
    "kernelspec": {
      "name": "python3",
      "display_name": "Python 3"
    },
    "language_info": {
      "name": "python"
    }
  },
  "cells": [
    {
      "cell_type": "markdown",
      "metadata": {
        "id": "view-in-github",
        "colab_type": "text"
      },
      "source": [
        "<a href=\"https://colab.research.google.com/github/rominaeh/ai-algorithms-project/blob/main/8queen.ipynb\" target=\"_parent\"><img src=\"https://colab.research.google.com/assets/colab-badge.svg\" alt=\"Open In Colab\"/></a>"
      ]
    },
    {
      "cell_type": "markdown",
      "source": [
        "In this notebook iam compairing differenct ai algorithms in their ability to solve 8 queen problem"
      ],
      "metadata": {
        "id": "QQ-3lhOv1Z0e"
      }
    },
    {
      "cell_type": "markdown",
      "source": [
        "#Random-Restart Hill Climbing Algorithm\n",
        "1.  Random Initialization: Start with a randomly generated state of the 8-queens problem.\n",
        "2.  Hill Climbing:\n",
        "    1.   Evaluate the current state.\n",
        "\n",
        "    2.   Generate all possible \"neighboring\" states by moving each queen.\n",
        "    3.    Choose the neighbor with the least number of attacking pairs of queens.\n",
        "    4.    Choose the neighbor with the least number of attacking pairs of queens.\n",
        "    5.    If no neighbor is better, the algorithm has reached a local maximum.\n",
        "3.  If a solution(a state with zero attacking pairs) is not found , restart the algorithm with a new random state.\n",
        "4.  Repeat"
      ],
      "metadata": {
        "id": "N7vWlim90Wcg"
      }
    },
    {
      "cell_type": "code",
      "execution_count": 2,
      "metadata": {
        "colab": {
          "base_uri": "https://localhost:8080/"
        },
        "id": "cVMAFZ90xYql",
        "outputId": "b36ebe4d-f899-4ab6-c75d-b8178eb1f7af"
      },
      "outputs": [
        {
          "output_type": "stream",
          "name": "stdout",
          "text": [
            "Failed attempt 1: [4, 1, 7, 2, 6, 3, 0, 5] with 1 attacks\n",
            "Failed attempt 2: [7, 3, 0, 2, 4, 1, 3, 5] with 2 attacks\n",
            "Failed attempt 3: [6, 3, 5, 0, 7, 0, 4, 1] with 2 attacks\n",
            "Failed attempt 4: [2, 6, 1, 7, 0, 3, 7, 4] with 1 attacks\n",
            "Solution found on attempt 5: [3, 0, 4, 7, 1, 6, 2, 5]\n"
          ]
        }
      ],
      "source": [
        "import random\n",
        "\n",
        "def random_state(n=8):\n",
        "    return [random.randint(0, n - 1) for _ in range(n)]\n",
        "\n",
        "def number_of_attacks(state):\n",
        "    attacks = 0\n",
        "    for i in range(len(state)):\n",
        "        for j in range(i + 1, len(state)):\n",
        "            # Check for attacks in rows and diagonals\n",
        "            if state[i] == state[j] or abs(state[i] - state[j]) == j - i:\n",
        "                attacks += 1\n",
        "    return attacks\n",
        "\n",
        "def get_neighbors(state):\n",
        "    neighbors = []\n",
        "    for i in range(len(state)):\n",
        "        for j in range(len(state)):\n",
        "            if state[i] != j:\n",
        "                # Create a new neighbor by moving the i-th queen\n",
        "                neighbor = list(state)\n",
        "                neighbor[i] = j\n",
        "                neighbors.append(neighbor)\n",
        "    return neighbors\n",
        "\n",
        "def hill_climbing(state):\n",
        "    while True:\n",
        "        current_attacks = number_of_attacks(state)\n",
        "        neighbors = get_neighbors(state)\n",
        "        # Find the best neighbor\n",
        "        best_neighbor = min(neighbors, key=number_of_attacks)\n",
        "        best_neighbor_attacks = number_of_attacks(best_neighbor)\n",
        "        # Check if the best neighbor is better than the current state\n",
        "        if best_neighbor_attacks >= current_attacks:\n",
        "            # No improvement, return the current state\n",
        "            return state\n",
        "        state = best_neighbor\n",
        "\n",
        "def random_restart_hill_climbing():\n",
        "    attempt = 1\n",
        "    while True:\n",
        "        initial_state = random_state()\n",
        "        final_state = hill_climbing(initial_state)\n",
        "        if number_of_attacks(final_state) == 0:\n",
        "            print(f\"Solution found on attempt {attempt}: {final_state}\")\n",
        "            return final_state\n",
        "        else:\n",
        "            print(f\"Failed attempt {attempt}: {final_state} with {number_of_attacks(final_state)} attacks\")\n",
        "            attempt += 1\n",
        "\n",
        "# Run the algorithm\n",
        "solution = random_restart_hill_climbing()\n"
      ]
    },
    {
      "cell_type": "markdown",
      "source": [
        "#Simulated Annealing algorithm\n",
        "1.  Initialization: Start with a random state (configuration of queens).\n",
        "2.  Temperature Schedule: Define a cooling schedule for the temperature, starting high and gradually decreasing.\n",
        "3.  Iteration: At each step:\n",
        "  1.      Select a random successor of the current state.\n",
        "  2.      Calculate the change in the number of attacking pairs (ΔEΔE).\n",
        "  3.      If the new state is better (less attacking pairs), move to it.\n",
        "  4.      If the new state is worse, move to it with a probability e^ΔE/Te−ΔE/T, where TT is the current temperature.\n",
        "4.  Cooling Down: Reduce the temperature according to the schedule and repeat the process.\n",
        "5.  Termination: Stop when a solution is found or after a predefined number of iterations or temperature threshold."
      ],
      "metadata": {
        "id": "Gcn_mpbx0Vle"
      }
    },
    {
      "cell_type": "code",
      "source": [
        "import random\n",
        "import math\n",
        "\n",
        "def random_state(n=8):\n",
        "    return [random.randint(0, n - 1) for _ in range(n)]\n",
        "\n",
        "def number_of_attacks(state):\n",
        "    attacks = 0\n",
        "    for i in range(len(state)):\n",
        "        for j in range(i + 1, len(state)):\n",
        "            if state[i] == state[j] or abs(state[i] - state[j]) == j - i:\n",
        "                attacks += 1\n",
        "    return attacks\n",
        "\n",
        "def get_random_neighbor(state):\n",
        "    neighbor = state.copy()\n",
        "    col = random.randint(0, len(state) - 1)\n",
        "    new_row = random.randint(0, len(state) - 1)\n",
        "    while new_row == state[col]:\n",
        "        new_row = random.randint(0, len(state) - 1)\n",
        "    neighbor[col] = new_row\n",
        "    return neighbor\n",
        "\n",
        "def simulated_annealing(n=8):\n",
        "    current = random_state(n)\n",
        "    current_attacks = number_of_attacks(current)\n",
        "    T = 1.0\n",
        "    T_min = 0.00001\n",
        "    alpha = 0.9\n",
        "    iteration = 0\n",
        "\n",
        "    while T > T_min:\n",
        "        for i in range(100):\n",
        "            neighbor = get_random_neighbor(current)\n",
        "            neighbor_attacks = number_of_attacks(neighbor)\n",
        "            delta_e = neighbor_attacks - current_attacks\n",
        "\n",
        "            if delta_e < 0 or random.uniform(0, 1) < math.exp(-delta_e / T):\n",
        "                current = neighbor\n",
        "                current_attacks = neighbor_attacks\n",
        "\n",
        "            iteration += 1\n",
        "            if current_attacks == 0:\n",
        "                return current, iteration\n",
        "\n",
        "        T = T * alpha\n",
        "\n",
        "    return current, iteration\n",
        "\n",
        "# Run the algorithm for 8 queens\n",
        "solution, total_iterations = simulated_annealing(8)\n",
        "print(\"Final Solution:\", solution)\n",
        "print(\"Total Iterations:\", total_iterations)\n"
      ],
      "metadata": {
        "colab": {
          "base_uri": "https://localhost:8080/"
        },
        "id": "kIMFODiJ5FJM",
        "outputId": "4e1c49ef-7679-45eb-919e-ef6faf3e719c"
      },
      "execution_count": 7,
      "outputs": [
        {
          "output_type": "stream",
          "name": "stdout",
          "text": [
            "Final Solution: [6, 2, 0, 5, 7, 4, 1, 3]\n",
            "Total Iterations: 2382\n"
          ]
        }
      ]
    },
    {
      "cell_type": "code",
      "source": [],
      "metadata": {
        "id": "RyCHEPwo6P4A"
      },
      "execution_count": null,
      "outputs": []
    }
  ]
}